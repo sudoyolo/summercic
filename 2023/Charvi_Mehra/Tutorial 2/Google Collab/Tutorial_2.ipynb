{
  "nbformat": 4,
  "nbformat_minor": 0,
  "metadata": {
    "colab": {
      "provenance": []
    },
    "kernelspec": {
      "name": "python3",
      "display_name": "Python 3"
    },
    "language_info": {
      "name": "python"
    }
  },
  "cells": [
    {
      "cell_type": "markdown",
      "source": [
        "Pandas 1"
      ],
      "metadata": {
        "id": "CzoX-kux8UuV"
      }
    },
    {
      "cell_type": "code",
      "execution_count": null,
      "metadata": {
        "id": "l2d2QICj7Q9q"
      },
      "outputs": [],
      "source": [
        "!pip install pandas"
      ]
    },
    {
      "cell_type": "code",
      "source": [
        "# vgsales.csv\n",
        "import pandas as pd\n",
        "df = pd.read_csv(\"vgsales.csv\")\n",
        "#df = DataFrame\n",
        "df.head()\n",
        "# df.head()shows first 5 rows of data\n",
        "# df.tail()shows last 5 rows of data"
      ],
      "metadata": {
        "id": "syuvj5z69NaZ"
      },
      "execution_count": null,
      "outputs": []
    },
    {
      "cell_type": "code",
      "source": [
        "df.tail()"
      ],
      "metadata": {
        "id": "3iKYKEgJAbiS"
      },
      "execution_count": null,
      "outputs": []
    }
  ]
}